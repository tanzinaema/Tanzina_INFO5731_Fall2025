{
  "cells": [
    {
      "cell_type": "markdown",
      "metadata": {
        "id": "view-in-github",
        "colab_type": "text"
      },
      "source": [
        "<a href=\"https://colab.research.google.com/github/tanzinaema/Tanzina_INFO5731_Fall2025/blob/main/Hossain_Tanzina_Assiginment_1.ipynb\" target=\"_parent\"><img src=\"https://colab.research.google.com/assets/colab-badge.svg\" alt=\"Open In Colab\"/></a>"
      ]
    },
    {
      "cell_type": "markdown",
      "metadata": {
        "id": "DymRJbxDBCnf"
      },
      "source": [
        "# **INFO5731 Assiginment 1**\n",
        "\n",
        "This exercise covers a variety of fundamental concepts in Python and is designed to help students improve their coding skills and problem-solving abilities.\n",
        "\n",
        "**Expectations**:\n",
        "*   Students are expected to complete the exercise during lecture period to meet the active participation criteria of the course.\n",
        "*   Use the provided .*ipynb* document to write your code & respond to the questions. Avoid generating a new file.\n",
        "*   Write complete answers and run all the cells before submission.\n",
        "*   Make sure the submission is \"clean\"; *i.e.*, no unnecessary code cells.\n",
        "*   Once finished, allow shared rights from top right corner (*see Canvas for details*).\n",
        "\n",
        "**Total points**: 100\n",
        "\n",
        "**Deadline**: This Assiginment-1 is due by Sunday Midnight\n",
        "\n",
        "**Late submissions cannot be considered, and no requests will be answered. Manage your time accordingly.**\n"
      ]
    },
    {
      "cell_type": "markdown",
      "source": [
        "## Question 1\n",
        "Write a Python program that  prompts the user to input the length and width of a rectangle, and then calculates and displays the area of the rectangle."
      ],
      "metadata": {
        "id": "FBKvD6O_TY6e"
      }
    },
    {
      "cell_type": "code",
      "source": [
        "# write your answer here\n",
        "def area(length, width):\n",
        "    return length * width\n",
        "\n",
        "def main():\n",
        "    length = float(input(\"Enter the rectangle's length: \"))\n",
        "    width  = float(input(\"Enter the rectangle's width: \"))\n",
        "    rect_area = area(length, width)\n",
        "    print(f\"Area of the rectangle = {rect_area}\")\n",
        "\n",
        "if __name__ == \"__main__\":\n",
        "    main()\n"
      ],
      "metadata": {
        "id": "cikVKDXdTbzE",
        "colab": {
          "base_uri": "https://localhost:8080/"
        },
        "outputId": "60f642a5-70dc-4d95-db17-8b0ad32cc559"
      },
      "execution_count": 31,
      "outputs": [
        {
          "output_type": "stream",
          "name": "stdout",
          "text": [
            "Enter the rectangle's length: 50\n",
            "Enter the rectangle's width: 20\n",
            "Area of the rectangle = 1000.0\n"
          ]
        }
      ]
    },
    {
      "cell_type": "markdown",
      "source": [
        "## Question 2\n",
        "Create a Python program that interactively takes two numerical inputs from the user and swaps their values without utilizing an extra variable."
      ],
      "metadata": {
        "id": "E9RqrlwdTfvl"
      }
    },
    {
      "cell_type": "code",
      "source": [
        "# write your answer here\n",
        "\n",
        "def main():\n",
        "    a = float(input(\"Enter the first number: \"))\n",
        "    b = float(input(\"Enter the second number: \"))\n",
        "\n",
        "    print(f\"Before swap: a = {a}, b = {b}\")\n",
        "    a, b = b, a   # swap without a temp variable\n",
        "    print(f\"After swap:  a = {a}, b = {b}\")\n",
        "\n",
        "if __name__ == \"__main__\":\n",
        "    main()\n"
      ],
      "metadata": {
        "id": "4XvRknixTh1g",
        "colab": {
          "base_uri": "https://localhost:8080/"
        },
        "outputId": "5ad63c6e-2fac-44a3-f787-e72f67abed93"
      },
      "execution_count": 32,
      "outputs": [
        {
          "output_type": "stream",
          "name": "stdout",
          "text": [
            "Enter the first number: 25\n",
            "Enter the second number: 56\n",
            "Before swap: a = 25.0, b = 56.0\n",
            "After swap:  a = 56.0, b = 25.0\n"
          ]
        }
      ]
    },
    {
      "cell_type": "markdown",
      "metadata": {
        "id": "03jb4GZsBkBS"
      },
      "source": [
        "## Question 3\n",
        "Write a Python script to determine and print the length of a user-input string."
      ]
    },
    {
      "cell_type": "code",
      "execution_count": 33,
      "metadata": {
        "id": "YaGLbSHHB8Ej",
        "colab": {
          "base_uri": "https://localhost:8080/"
        },
        "outputId": "49679bbc-d6f0-4ce5-b74f-50ef84531080"
      },
      "outputs": [
        {
          "output_type": "stream",
          "name": "stdout",
          "text": [
            "Enter a string: Man is mortal\n",
            "Length of the string = 13\n"
          ]
        }
      ],
      "source": [
        "# write your answer here\n",
        "# string_length.py\n",
        "text = input(\"Enter a string: \")\n",
        "print(f\"Length of the string = {len(text)}\")\n"
      ]
    },
    {
      "cell_type": "markdown",
      "metadata": {
        "id": "jJDe71iLB616"
      },
      "source": [
        "## Question 4\n",
        "Construct a Python program that counts and displays the occurrences of each character in a given string.\n",
        "\n",
        "Sample String: 'openai.ai',\n",
        "\n",
        "Expected Result: {'a': 2, 'i': 2, '.': 1, 'o': 1, 'p': 1, 'e': 1, 'n': 1}"
      ]
    },
    {
      "cell_type": "code",
      "execution_count": 34,
      "metadata": {
        "id": "MtKskTzbCLaU",
        "colab": {
          "base_uri": "https://localhost:8080/"
        },
        "outputId": "b6cc57d4-3d38-4131-fd5d-104d9d6096ac"
      },
      "outputs": [
        {
          "output_type": "stream",
          "name": "stdout",
          "text": [
            "Enter a string: Hello Professor\n",
            "By character (asc): {' ': 1, 'H': 1, 'P': 1, 'e': 2, 'f': 1, 'l': 2, 'o': 3, 'r': 2, 's': 2}\n"
          ]
        }
      ],
      "source": [
        "# write your answer here\n",
        "from collections import Counter\n",
        "\n",
        "def main():\n",
        "    s = input(\"Enter a string: \")\n",
        "    counts = Counter(s)\n",
        "\n",
        "    # ascending by character\n",
        "    by_char = dict(sorted(counts.items()))\n",
        "    print(\"By character (asc):\", by_char)\n",
        "\n",
        "if __name__ == \"__main__\":\n",
        "    main()\n",
        "\n"
      ]
    },
    {
      "cell_type": "markdown",
      "metadata": {
        "id": "55W9AMdXCSpV"
      },
      "source": [
        "## Question 5\n",
        "Design a Python code to calculate the sum of all elements in a user-provided list."
      ]
    },
    {
      "cell_type": "code",
      "execution_count": 35,
      "metadata": {
        "id": "I57NXsauCec2",
        "colab": {
          "base_uri": "https://localhost:8080/"
        },
        "outputId": "b42f670e-e783-49ee-9ca5-61eedd4c251e"
      },
      "outputs": [
        {
          "output_type": "stream",
          "name": "stdout",
          "text": [
            "Enter numbers separated by spaces: 5 65 89 25 2 9 \n",
            "Sum of the list = 195.0\n"
          ]
        }
      ],
      "source": [
        "# write your answer here\n",
        "def main():\n",
        "    raw = input(\"Enter numbers separated by spaces: \")\n",
        "    nums = [float(x) for x in raw.split()]  # e.g., 1 2 3.5 -4\n",
        "    total = sum(nums)\n",
        "    print(f\"Sum of the list = {total}\")\n",
        "\n",
        "if __name__ == \"__main__\":\n",
        "    main()\n"
      ]
    },
    {
      "cell_type": "markdown",
      "metadata": {
        "id": "4ulBZ6yhCi9F"
      },
      "source": [
        "## Question 6\n",
        "Write a Python program that modifies a given string by replacing all occurrences of its first character with '$', excluding the first character itself.\n",
        "\n",
        "\n",
        "Sample String : 'restart‘\n",
        "Expected Result : 'resta\\$t'"
      ]
    },
    {
      "cell_type": "code",
      "execution_count": 55,
      "metadata": {
        "id": "Fj0XhwbBCw2o",
        "colab": {
          "base_uri": "https://localhost:8080/"
        },
        "outputId": "aeb2bbbb-d178-430b-e8fc-b0d7745733e1"
      },
      "outputs": [
        {
          "output_type": "stream",
          "name": "stdout",
          "text": [
            "Enter a string: restart\n",
            "resta$t\n"
          ]
        }
      ],
      "source": [
        "# write your answer here\n",
        "def mask_repeats(s: str) -> str:\n",
        "    if not s:\n",
        "        return s\n",
        "    first = s[0]\n",
        "    return first + s[1:].replace(first, '$')\n",
        "\n",
        "# Interactive use\n",
        "text = input(\"Enter a string: \")\n",
        "print(mask_repeats(text))\n",
        "\n",
        "# Example:\n",
        "# input:  restart. Here, r is the first character. seconf occurance of r is replaced by $\n",
        "# output: resta$t\n"
      ]
    },
    {
      "cell_type": "markdown",
      "source": [
        "## Question 7\n",
        "Write a Python program using a while loop to compute the factorial of a user-supplied number."
      ],
      "metadata": {
        "id": "qVXA3q7ET5JI"
      }
    },
    {
      "cell_type": "code",
      "source": [
        "# write your answer here\n",
        "def main():\n",
        "    try:\n",
        "        n = int(input(\"Enter a non-negative integer: \"))\n",
        "    except ValueError:\n",
        "        print(\"Please enter a valid integer.\")\n",
        "        return\n",
        "\n",
        "    if n < 0:\n",
        "        print(\"Factorial is not defined for negative numbers.\")\n",
        "        return\n",
        "\n",
        "    result = 1\n",
        "    i = 2\n",
        "    while i <= n:\n",
        "        result *= i\n",
        "        i += 1\n",
        "\n",
        "    print(f\"{n}! = {result}\")\n",
        "\n",
        "if __name__ == \"__main__\":\n",
        "    main()\n"
      ],
      "metadata": {
        "id": "Lbt7R6UkT7BA",
        "colab": {
          "base_uri": "https://localhost:8080/"
        },
        "outputId": "b3951219-6d60-482f-e7d5-e7e49ada77f6"
      },
      "execution_count": 56,
      "outputs": [
        {
          "output_type": "stream",
          "name": "stdout",
          "text": [
            "Enter a non-negative integer: 25\n",
            "25! = 15511210043330985984000000\n"
          ]
        }
      ]
    },
    {
      "cell_type": "markdown",
      "source": [
        "## Question 8\n",
        "Create a program that accepts a list of numbers as input and outputs a new list containing only the even numbers."
      ],
      "metadata": {
        "id": "6YfbzXMNT--R"
      }
    },
    {
      "cell_type": "code",
      "source": [
        "# write your answer here\n",
        "def main():\n",
        "    raw = input(\"Enter integers separated by spaces (or commas): \")\n",
        "    nums = [int(x) for x in raw.replace(\",\", \" \").split()]\n",
        "    evens = [n for n in nums if n % 2 == 0]\n",
        "    print(\"Even numbers:\", evens)\n",
        "\n",
        "if __name__ == \"__main__\":\n",
        "    main()\n"
      ],
      "metadata": {
        "id": "54q7wMQPUAKu",
        "colab": {
          "base_uri": "https://localhost:8080/"
        },
        "outputId": "e8b349f1-774c-4541-9fba-dea7507c18a3"
      },
      "execution_count": 38,
      "outputs": [
        {
          "output_type": "stream",
          "name": "stdout",
          "text": [
            "Enter integers separated by spaces (or commas): 5 8 6 4 8 6 \n",
            "Even numbers: [8, 6, 4, 8, 6]\n"
          ]
        }
      ]
    },
    {
      "cell_type": "markdown",
      "metadata": {
        "id": "_bIP7s1MCzue"
      },
      "source": [
        "## Question 9\n",
        "Design a Python function to check if a number is prime.\n"
      ]
    },
    {
      "cell_type": "code",
      "execution_count": 39,
      "metadata": {
        "id": "w79QilHXD3Mg",
        "colab": {
          "base_uri": "https://localhost:8080/"
        },
        "outputId": "96a92df8-b0c2-4092-d41d-49bdc5c68cc0"
      },
      "outputs": [
        {
          "output_type": "stream",
          "name": "stdout",
          "text": [
            "1 False\n",
            "2 True\n",
            "3 True\n",
            "4 False\n",
            "5 True\n",
            "17 True\n",
            "18 False\n",
            "97 True\n",
            "100 False\n"
          ]
        }
      ],
      "source": [
        "# write your answer here\n",
        "def is_prime(n: int) -> bool:\n",
        "    \"\"\"Return True if n is a prime number, else False.\"\"\"\n",
        "    if n <= 1:\n",
        "        return False\n",
        "    if n <= 3:\n",
        "        return True              # 2 and 3 are prime\n",
        "    if n % 2 == 0 or n % 3 == 0:\n",
        "        return False             # eliminate multiples of 2 or 3\n",
        "\n",
        "    # Check only numbers of the form 6k ± 1 up to sqrt(n)\n",
        "    i = 5\n",
        "    while i * i <= n:\n",
        "        if n % i == 0 or n % (i + 2) == 0:\n",
        "            return False\n",
        "        i += 6\n",
        "    return True\n",
        "for x in [1, 2, 3, 4, 5, 17, 18, 97, 100]:\n",
        "    print(x, is_prime(x))\n"
      ]
    },
    {
      "cell_type": "markdown",
      "metadata": {
        "id": "xCa2bK9aD4Q3"
      },
      "source": [
        "## Question 10\n",
        "Write a Python program to concatenate following dictionaries to create a new one.\n",
        "\n",
        "Sample Dictionary : dic1={1:10, 2:20}, dic2={3:30, 4:40}, dic3={5:50,6:60},\n",
        "\n",
        "Expected Result : {1: 10, 2: 20, 3: 30, 4: 40, 5: 50, 6: 60}\n"
      ]
    },
    {
      "cell_type": "code",
      "execution_count": 40,
      "metadata": {
        "id": "_z4aLqAbEET1",
        "colab": {
          "base_uri": "https://localhost:8080/"
        },
        "outputId": "37f94231-b69d-47bd-c0da-30a6b90db8cc"
      },
      "outputs": [
        {
          "output_type": "stream",
          "name": "stdout",
          "text": [
            "{1: 10, 2: 20, 3: 30, 4: 40, 5: 50, 6: 60}\n"
          ]
        }
      ],
      "source": [
        "# write your answer here\n",
        "dic1 = {1: 10, 2: 20}\n",
        "dic2 = {3: 30, 4: 40}\n",
        "dic3 = {5: 50, 6: 60}\n",
        "\n",
        "merged = {**dic1, **dic2, **dic3}\n",
        "print(merged)  # {1: 10, 2: 20, 3: 30, 4: 40, 5: 50, 6: 60}\n"
      ]
    },
    {
      "cell_type": "markdown",
      "source": [
        "## Question 11\n",
        "Design a Python function that takes a tuple of integers as input and returns the largest and smallest elements."
      ],
      "metadata": {
        "id": "bkyZ2xSZUOst"
      }
    },
    {
      "cell_type": "code",
      "source": [
        "# write your answer here\n",
        "def min_max(nums: tuple[int, ...]) -> tuple[int, int]:\n",
        "    \"\"\"Return (largest, smallest) from a non-empty tuple of ints.\"\"\"\n",
        "    if not nums:\n",
        "        raise ValueError(\"Input tuple must not be empty.\")\n",
        "    return max(nums), min(nums)\n",
        "\n",
        "# Example\n",
        "t = (3, 9, -2, 5)\n",
        "largest, smallest = min_max(t)\n",
        "print(largest, smallest)  # 9 -2\n"
      ],
      "metadata": {
        "id": "3FdLRBKOUQEd",
        "colab": {
          "base_uri": "https://localhost:8080/"
        },
        "outputId": "42d1b565-8889-4bfa-b157-6fc711ef8849"
      },
      "execution_count": 41,
      "outputs": [
        {
          "output_type": "stream",
          "name": "stdout",
          "text": [
            "9 -2\n"
          ]
        }
      ]
    },
    {
      "cell_type": "markdown",
      "source": [
        "## Question 12\n",
        "Write a Python program that counts the frequency of each character in a given string and stores it in a dictionary."
      ],
      "metadata": {
        "id": "O0TVi3gKUTpp"
      }
    },
    {
      "cell_type": "code",
      "source": [
        "# write your answer here\n",
        "from collections import Counter\n",
        "\n",
        "def main():\n",
        "    s = input(\"Enter a string: \")\n",
        "    freq = dict(Counter(s))   # counts every character (including spaces/punctuation)\n",
        "    print(freq)\n",
        "\n",
        "if __name__ == \"__main__\":\n",
        "    main()\n"
      ],
      "metadata": {
        "id": "lAtfSfZXUU-h",
        "colab": {
          "base_uri": "https://localhost:8080/"
        },
        "outputId": "3b3f7b5f-ed30-4cf9-d7ae-185389e2d1ed"
      },
      "execution_count": 42,
      "outputs": [
        {
          "output_type": "stream",
          "name": "stdout",
          "text": [
            "Enter a string: Man is mortal\n",
            "{'M': 1, 'a': 2, 'n': 1, ' ': 2, 'i': 1, 's': 1, 'm': 1, 'o': 1, 'r': 1, 't': 1, 'l': 1}\n"
          ]
        }
      ]
    },
    {
      "cell_type": "markdown",
      "metadata": {
        "id": "0v48Vqa7FrQh"
      },
      "source": [
        "## Question 13\n",
        "Implement a Python script to identify duplicate elements in a provided array of integers. Return -1 if there are no duplicates."
      ]
    },
    {
      "cell_type": "code",
      "execution_count": 43,
      "metadata": {
        "id": "7WEmgq-DF2P1",
        "colab": {
          "base_uri": "https://localhost:8080/"
        },
        "outputId": "2a1d2ff0-bf6f-45ca-d7d4-95c5fbf04822"
      },
      "outputs": [
        {
          "output_type": "stream",
          "name": "stdout",
          "text": [
            "Enter integers separated by spaces: 5 8 6 9 5\n",
            "[5]\n"
          ]
        }
      ],
      "source": [
        "# write your answer here\n",
        "from collections import Counter\n",
        "\n",
        "def find_duplicates(nums):\n",
        "    counts = Counter(nums)\n",
        "    dups = sorted([x for x, c in counts.items() if c > 1])\n",
        "    return dups if dups else -1\n",
        "\n",
        "def main():\n",
        "    raw = input(\"Enter integers separated by spaces: \").strip()\n",
        "    if not raw:\n",
        "        print(-1)\n",
        "        return\n",
        "    try:\n",
        "        nums = [int(x) for x in raw.split()]\n",
        "    except ValueError:\n",
        "        print(\"Please enter integers only.\")\n",
        "        return\n",
        "    print(find_duplicates(nums))\n",
        "\n",
        "if __name__ == \"__main__\":\n",
        "    main()\n"
      ]
    },
    {
      "cell_type": "markdown",
      "metadata": {
        "id": "vD5PYLMuGga_"
      },
      "source": [
        "## Question 14\n",
        "Write a Python script to find the common elements between two lists."
      ]
    },
    {
      "cell_type": "code",
      "execution_count": 44,
      "metadata": {
        "id": "t0D5kdJUGjjw",
        "colab": {
          "base_uri": "https://localhost:8080/"
        },
        "outputId": "a8170906-f3a0-49f7-f215-441e7b6baf41"
      },
      "outputs": [
        {
          "output_type": "stream",
          "name": "stdout",
          "text": [
            "Enter list A (space-separated): 5 8 6 8 5 9 4 2\n",
            "Enter list B (space-separated): 2 3 4 5 6 7 8 9 \n",
            "Common elements: [2, 4, 5, 6, 8, 9]\n"
          ]
        }
      ],
      "source": [
        "# write your answer here\n",
        "def main():\n",
        "    a = [int(x) for x in input(\"Enter list A (space-separated): \").split()]\n",
        "    b = [int(x) for x in input(\"Enter list B (space-separated): \").split()]\n",
        "\n",
        "    common = sorted(set(a) & set(b))   # unique, sorted\n",
        "    print(\"Common elements:\", common)\n",
        "\n",
        "if __name__ == \"__main__\":\n",
        "    main()\n",
        "\n"
      ]
    },
    {
      "cell_type": "markdown",
      "metadata": {
        "id": "uHkd-y5VhVWC"
      },
      "source": [
        "## Question 15\n",
        "Write a Python program to randomly divide the students in this class into maximum of eight groups for term projects, each group should have at least 4 students but no more than 6 students (including 6).\n",
        "\n",
        "Here is the students list:\n",
        "\n",
        "student_list_spring_2024=[rb0846,\n",
        "ac1964,\n",
        "hc0612,\n",
        "md0912,\n",
        "ad1198,\n",
        "md0894,\n",
        "md0825,\n",
        "vg0598,\n",
        "vg0433,\n",
        "mh1068,\n",
        "yj0173,\n",
        "pk0553,\n",
        "tk0411,\n",
        "srk0204,\n",
        "sk2922,\n",
        "sk2936,\n",
        "mk1302,\n",
        "mk1317,\n",
        "tk0412,\n",
        "vk0656,\n",
        "sm2985,\n",
        "mm2372,\n",
        "un0045,\n",
        "an0892,\n",
        "sn0913,\n",
        "gp0252,\n",
        "ap1484,\n",
        "mr1765,\n",
        "sr1385,\n",
        "sr1335,\n",
        "hs0665,\n",
        "ms2060,\n",
        "gt0217,\n",
        "nt0385,\n",
        "tv0186,\n",
        "sv1394,\n",
        "sv1752,\n",
        "sv1555,\n",
        "sy0594\n",
        "]\n"
      ]
    },
    {
      "cell_type": "code",
      "execution_count": 45,
      "metadata": {
        "id": "3iGbmcOBhTwy",
        "colab": {
          "base_uri": "https://localhost:8080/"
        },
        "outputId": "189bae4e-9eac-4917-a6f1-497faa27d824"
      },
      "outputs": [
        {
          "output_type": "stream",
          "name": "stdout",
          "text": [
            "Group 1 (6): an0892, nt0385, md0912, pk0553, yj0173, sv1394\n",
            "Group 2 (6): sr1385, hs0665, ms2060, un0045, ap1484, mm2372\n",
            "Group 3 (6): tk0411, ad1198, mh1068, tv0186, sn0913, sr1335\n",
            "Group 4 (6): sm2985, gp0252, sv1752, mr1765, vk0656, mk1302\n",
            "Group 5 (5): sy0594, gt0217, hc0612, rb0846, sv1555\n",
            "Group 6 (5): srk0204, tk0412, md0894, md0825, vg0433\n",
            "Group 7 (5): sk2922, sk2936, mk1317, ac1964, vg0598\n"
          ]
        }
      ],
      "source": [
        "# write your answer here\n",
        "import random\n",
        "import math\n",
        "\n",
        "def make_groups(students, max_groups=8, min_size=4, max_size=6, seed=None):\n",
        "    \"\"\"\n",
        "    Randomly partition `students` into groups of size between min_size and max_size (inclusive),\n",
        "    using at most `max_groups` groups. Returns a list of groups (lists of student ids).\n",
        "    \"\"\"\n",
        "    n = len(students)\n",
        "    if n == 0:\n",
        "        return []\n",
        "\n",
        "    # Determine the feasible range of number of groups\n",
        "    min_groups = math.ceil(n / max_size)           # need at least this many groups to keep groups ≤ max_size\n",
        "    max_groups_feasible = min(max_groups, n // min_size)  # can’t have more groups than floor(n / min_size)\n",
        "    if min_groups > max_groups_feasible:\n",
        "        raise ValueError(\"Impossible to form groups with the given constraints.\")\n",
        "\n",
        "    rnd = random.Random(seed)\n",
        "    rnd.shuffle(students)\n",
        "\n",
        "    # Pick a group count in the feasible range (randomly)\n",
        "    g = rnd.randint(min_groups, max_groups_feasible)\n",
        "\n",
        "    # Distribute sizes as evenly as possible (sizes differ by at most 1)\n",
        "    base = n // g\n",
        "    rem = n % g\n",
        "    sizes = [base + 1] * rem + [base] * (g - rem)  # first `rem` groups get one extra\n",
        "\n",
        "    # Build the groups\n",
        "    groups, idx = [], 0\n",
        "    for s in sizes:\n",
        "        groups.append(students[idx:idx + s])\n",
        "        idx += s\n",
        "\n",
        "    # Sanity checks (each 4–6, total preserved)\n",
        "    assert all(min_size <= len(grp) <= max_size for grp in groups)\n",
        "    assert sum(len(grp) for grp in groups) == n\n",
        "\n",
        "    return groups\n",
        "\n",
        "if __name__ == \"__main__\":\n",
        "    student_list_spring_2024 = [\n",
        "        \"rb0846\", \"ac1964\", \"hc0612\", \"md0912\", \"ad1198\", \"md0894\", \"md0825\", \"vg0598\", \"vg0433\",\n",
        "        \"mh1068\", \"yj0173\", \"pk0553\", \"tk0411\", \"srk0204\", \"sk2922\", \"sk2936\", \"mk1302\", \"mk1317\",\n",
        "        \"tk0412\", \"vk0656\", \"sm2985\", \"mm2372\", \"un0045\", \"an0892\", \"sn0913\", \"gp0252\", \"ap1484\",\n",
        "        \"mr1765\", \"sr1385\", \"sr1335\", \"hs0665\", \"ms2060\", \"gt0217\", \"nt0385\", \"tv0186\", \"sv1394\",\n",
        "        \"sv1752\", \"sv1555\", \"sy0594\"\n",
        "    ]\n",
        "\n",
        "    # Set a seed for reproducible grouping (remove or change for a new random split each run)\n",
        "    groups = make_groups(student_list_spring_2024, max_groups=8, min_size=4, max_size=6, seed=42)\n",
        "\n",
        "    for i, grp in enumerate(groups, 1):\n",
        "        print(f\"Group {i} ({len(grp)}): {', '.join(grp)}\")\n"
      ]
    },
    {
      "cell_type": "markdown",
      "metadata": {
        "id": "fmZ9vX20Qs3d"
      },
      "source": [
        "## Question 16\n",
        "Create a program that takes a positive integer 'n' as input and prints the count of even numbers from 1 to 'n'. Optimize the loop using the continue statement."
      ]
    },
    {
      "cell_type": "code",
      "execution_count": 46,
      "metadata": {
        "id": "W8Jw6sWMQs3d",
        "colab": {
          "base_uri": "https://localhost:8080/"
        },
        "outputId": "a217bf44-324a-4741-f04f-5a9725a45eb3"
      },
      "outputs": [
        {
          "output_type": "stream",
          "name": "stdout",
          "text": [
            "Enter a positive integer n: 85\n",
            "Count of even numbers from 1 to 85 = 42\n"
          ]
        }
      ],
      "source": [
        "# write your answer here\n",
        "def main():\n",
        "    try:\n",
        "        n = int(input(\"Enter a positive integer n: \"))\n",
        "        if n <= 0:\n",
        "            print(\"n must be positive.\")\n",
        "            return\n",
        "    except ValueError:\n",
        "        print(\"Please enter an integer.\")\n",
        "        return\n",
        "\n",
        "    count = 0\n",
        "    i = 1\n",
        "    while i <= n:\n",
        "        if i % 2 != 0:   # odd → skip\n",
        "            i += 1\n",
        "            continue\n",
        "        count += 1       # even → count it\n",
        "        i += 1\n",
        "\n",
        "    print(f\"Count of even numbers from 1 to {n} = {count}\")\n",
        "\n",
        "if __name__ == \"__main__\":\n",
        "    main()\n"
      ]
    },
    {
      "cell_type": "markdown",
      "metadata": {
        "id": "hvq4APMhQs3d"
      },
      "source": [
        "## Question 17\n",
        "Develop a Python function called 'count_vowels' that takes a string as input and returns the count of vowels (both lowercase and uppercase) present in the string, ignoring spaces and non-alphabetic characters."
      ]
    },
    {
      "cell_type": "code",
      "execution_count": 47,
      "metadata": {
        "id": "ZnoxhSglQs3d"
      },
      "outputs": [],
      "source": [
        "# write your answer here\n",
        "def count_vowels(text: str) -> int:\n",
        "    \"\"\"Return the number of vowels (A, E, I, O, U) in text.\n",
        "    Ignores spaces and non-alphabetic characters.\n",
        "    \"\"\"\n",
        "    vowels = set(\"aeiou\")\n",
        "    text = text.lower()\n",
        "    return sum(1 for ch in text if ch.isalpha() and ch in vowels)\n",
        "\n",
        "\n"
      ]
    },
    {
      "cell_type": "markdown",
      "source": [
        "## Question 18\n",
        "Create a custom exception named ValueTooSmallError in Python. Write a program that takes user input for an age, and if the entered age is less than 18, raise the ValueTooSmallError with an appropriate error message."
      ],
      "metadata": {
        "id": "55FWoSJPVVM6"
      }
    },
    {
      "cell_type": "code",
      "source": [
        "# write your answer here\n",
        "class ValueTooSmallError(Exception):\n",
        "    \"\"\"Raised when a provided value is below the required minimum.\"\"\"\n",
        "    def __init__(self, value, minimum, message=None):\n",
        "        if message is None:\n",
        "            message = f\"Value {value} is too small. Minimum allowed is {minimum}.\"\n",
        "        super().__init__(message)\n",
        "        self.value = value\n",
        "        self.minimum = minimum\n",
        "\n",
        "def main():\n",
        "    MIN_AGE = 18\n",
        "    try:\n",
        "        age_str = input(\"Enter your age: \")\n",
        "        age = int(age_str)\n",
        "\n",
        "        if age < MIN_AGE:\n",
        "            raise ValueTooSmallError(age, MIN_AGE)\n",
        "\n",
        "        print(\"Age accepted. You meet the minimum requirement.\")\n",
        "    except ValueTooSmallError as e:\n",
        "        print(f\"Error: {e}\")\n",
        "    except ValueError:\n",
        "        print(\"Please enter a valid integer for age.\")\n",
        "\n",
        "if __name__ == \"__main__\":\n",
        "    main()\n"
      ],
      "metadata": {
        "id": "hwtr1wZmVX5A",
        "colab": {
          "base_uri": "https://localhost:8080/"
        },
        "outputId": "edbaab1e-c17a-4ec5-ab26-b18dcaa6a683"
      },
      "execution_count": 48,
      "outputs": [
        {
          "output_type": "stream",
          "name": "stdout",
          "text": [
            "Enter your age: 45\n",
            "Age accepted. You meet the minimum requirement.\n"
          ]
        }
      ]
    },
    {
      "cell_type": "markdown",
      "source": [
        "## Question 19\n",
        "Develop a script that reverses a given string without using built-in reverse functions."
      ],
      "metadata": {
        "id": "Q9ecagcaVazW"
      }
    },
    {
      "cell_type": "code",
      "source": [
        "# write your answer here\n",
        "def reverse_string(s: str) -> str:\n",
        "    rev = \"\"\n",
        "    for ch in s:\n",
        "        rev = ch + rev\n",
        "    return rev\n",
        "\n"
      ],
      "metadata": {
        "id": "gycgckoAVZjR"
      },
      "execution_count": 49,
      "outputs": []
    },
    {
      "cell_type": "markdown",
      "source": [
        "## Question 20\n",
        "Implement a Python script to generate a random password of a specified length."
      ],
      "metadata": {
        "id": "ZFG6RibifMLu"
      }
    },
    {
      "cell_type": "code",
      "source": [
        "# write your answer here\n",
        "import secrets\n",
        "import string\n",
        "\n",
        "def generate_password(length: int) -> str:\n",
        "    if length < 4:\n",
        "        raise ValueError(\"Length must be at least 4.\")\n",
        "    cats = [string.ascii_lowercase, string.ascii_uppercase, string.digits, string.punctuation]\n",
        "    pwd = [secrets.choice(c) for c in cats]  # ensure all categories present\n",
        "    all_chars = \"\".join(cats)\n",
        "    pwd += [secrets.choice(all_chars) for _ in range(length - 4)]\n",
        "    secrets.SystemRandom().shuffle(pwd)\n",
        "    return \"\".join(pwd)\n",
        "\n",
        "def prompt_length() -> int:\n",
        "    while True:\n",
        "        s = input(\"Desired password length (>=4): \").strip()\n",
        "        try:\n",
        "            n = int(s)\n",
        "            if n >= 4:\n",
        "                return n\n",
        "            print(\"Please enter an integer >= 4.\")\n",
        "        except ValueError:\n",
        "            print(\"Invalid input. Please enter a whole number (e.g., 12).\")\n",
        "\n",
        "def main():\n",
        "    n = prompt_length()\n",
        "    print(\"Your password:\", generate_password(n))\n",
        "\n",
        "if __name__ == \"__main__\":\n",
        "    main()\n"
      ],
      "metadata": {
        "id": "BFVrkEi9fNiD",
        "colab": {
          "base_uri": "https://localhost:8080/"
        },
        "outputId": "4b61df23-f2cc-4b9d-e107-0f02850fd25b"
      },
      "execution_count": 50,
      "outputs": [
        {
          "output_type": "stream",
          "name": "stdout",
          "text": [
            "Desired password length (>=4): 6\n",
            "Your password: 2Pt{\"Z\n"
          ]
        }
      ]
    },
    {
      "cell_type": "markdown",
      "source": [
        "# Try these questions"
      ],
      "metadata": {
        "id": "6SmvS7nSfbj8"
      }
    },
    {
      "cell_type": "markdown",
      "source": [
        "(21) Define a base class called 'Vehicle' with attributes make and model. Create a derived class Car that inherits from Vehicle and has an additional attribute 'num_doors'. Demonstrate an example of creating an instance of the 'Car' class and accessing its attributes."
      ],
      "metadata": {
        "id": "cboAr5pEWUf5"
      }
    },
    {
      "cell_type": "code",
      "source": [
        "# write your answer here\n",
        "class Vehicle:\n",
        "    def __init__(self, make, model):\n",
        "        self.make = make\n",
        "        self.model = model\n",
        "\n",
        "class Car(Vehicle):\n",
        "    def __init__(self, make, model, num_doors):\n",
        "        super().__init__(make, model)   # initialize Vehicle part\n",
        "        self.num_doors = num_doors\n",
        "\n",
        "# Demo\n",
        "my_car = Car(\"Toyota\", \"Corolla\", 4)\n",
        "print(f\"Make: {my_car.make}\")        # Toyota\n",
        "print(f\"Model: {my_car.model}\")      # Corolla\n",
        "print(f\"Num doors: {my_car.num_doors}\")  # 4\n"
      ],
      "metadata": {
        "id": "phs9gciMWWAW",
        "colab": {
          "base_uri": "https://localhost:8080/"
        },
        "outputId": "801085c5-c907-4b57-e0d0-542780f85c05"
      },
      "execution_count": 51,
      "outputs": [
        {
          "output_type": "stream",
          "name": "stdout",
          "text": [
            "Make: Toyota\n",
            "Model: Corolla\n",
            "Num doors: 4\n"
          ]
        }
      ]
    },
    {
      "cell_type": "markdown",
      "source": [
        "(22) Create a class called 'Shape' with a method calculate_area(). Implement two derived classes 'Circle' and 'Rectangle' that inherit from Shape and override the calculate_area() method. Demonstrate polymorphism by creating instances of both derived classes and calling the calculate_area() method."
      ],
      "metadata": {
        "id": "J8HHefNtePwd"
      }
    },
    {
      "cell_type": "code",
      "source": [
        "# write your answer here\n",
        "from abc import ABC, abstractmethod\n",
        "import math\n",
        "\n",
        "class Shape(ABC):\n",
        "    @abstractmethod\n",
        "    def calculate_area(self) -> float:\n",
        "        \"\"\"Return the area of the shape.\"\"\"\n",
        "        pass\n",
        "\n",
        "class Circle(Shape):\n",
        "    def __init__(self, radius: float):\n",
        "        if radius <= 0:\n",
        "            raise ValueError(\"radius must be positive\")\n",
        "        self.radius = radius\n",
        "\n",
        "    def calculate_area(self) -> float:\n",
        "        return math.pi * self.radius ** 2\n",
        "\n",
        "class Rectangle(Shape):\n",
        "    def __init__(self, length: float, width: float):\n",
        "        if length <= 0 or width <= 0:\n",
        "            raise ValueError(\"length and width must be positive\")\n",
        "        self.length = length\n",
        "        self.width = width\n",
        "\n",
        "    def calculate_area(self) -> float:\n",
        "        return self.length * self.width\n",
        "\n",
        "# --- Polymorphism demo ---\n",
        "shapes: list[Shape] = [\n",
        "    Circle(3),\n",
        "    Rectangle(4, 5),\n",
        "]\n",
        "\n",
        "for s in shapes:\n",
        "    # Each object responds to the same method name, but runs its own override\n",
        "    print(f\"{s.__class__.__name__} area =\", s.calculate_area())\n"
      ],
      "metadata": {
        "id": "btnMmUZDeRhS",
        "colab": {
          "base_uri": "https://localhost:8080/"
        },
        "outputId": "0e09f28e-5959-4891-ac40-979918956833"
      },
      "execution_count": 52,
      "outputs": [
        {
          "output_type": "stream",
          "name": "stdout",
          "text": [
            "Circle area = 28.274333882308138\n",
            "Rectangle area = 20\n"
          ]
        }
      ]
    },
    {
      "cell_type": "markdown",
      "source": [
        "(23) Write a Python program that prompts the user to enter two numbers and perform a division operation. Handle exceptions for both zero division and invalid input (non-numeric input). Display appropriate error messages for each type of exception and ensure the program does not crash due to these errors."
      ],
      "metadata": {
        "id": "z0oqEAlTeMUS"
      }
    },
    {
      "cell_type": "code",
      "source": [
        "# write your answer here\n",
        "def get_number(prompt: str) -> float:\n",
        "    \"\"\"Ask repeatedly until the user enters a valid number.\"\"\"\n",
        "    while True:\n",
        "        try:\n",
        "            return float(input(prompt))\n",
        "        except ValueError:\n",
        "            print(\"Invalid input: please enter a numeric value.\")\n",
        "\n",
        "def main():\n",
        "    while True:\n",
        "        a = get_number(\"Enter the numerator: \")\n",
        "        b = get_number(\"Enter the denominator: \")\n",
        "        try:\n",
        "            result = a / b\n",
        "        except ZeroDivisionError:\n",
        "            print(\"Error: division by zero is not allowed. Try again.\\n\")\n",
        "            continue\n",
        "        else:\n",
        "            print(f\"Result: {a} / {b} = {result}\")\n",
        "            break\n",
        "\n",
        "if __name__ == \"__main__\":\n",
        "    main()\n"
      ],
      "metadata": {
        "id": "yjdc1zM1eMAs",
        "colab": {
          "base_uri": "https://localhost:8080/"
        },
        "outputId": "25b39599-a296-4ccb-b4a4-752f41d7eb36"
      },
      "execution_count": 53,
      "outputs": [
        {
          "output_type": "stream",
          "name": "stdout",
          "text": [
            "Enter the numerator: 98\n",
            "Enter the denominator: 56\n",
            "Result: 98.0 / 56.0 = 1.75\n"
          ]
        }
      ]
    },
    {
      "cell_type": "markdown",
      "source": [
        "# Mandatory Question"
      ],
      "metadata": {
        "id": "sZOhks1dXWEe"
      }
    },
    {
      "cell_type": "markdown",
      "source": [
        "**Important:**\n",
        "Reflecting on the first three lectures and the exercises you've completed, please provide feedback on your learning experience. Share your thoughts on whether the material covered was clear, the exercises were helpful, and if you feel more confident in applying Python programming concepts. Additionally, mention any specific areas where you would like more clarification or topics you would like to explore further in future lectures. Your feedback is valuable in shaping the course for an effective learning journey."
      ],
      "metadata": {
        "id": "eqmHVEwaWhbV"
      }
    },
    {
      "cell_type": "code",
      "source": [
        "'''\n",
        "The first three lectures were clear and well-paced, and the hands-on exercises (e.g., strings, lists/dicts/sets, loops, functions, exceptions) were very helpful for building confidence. I now feel comfortable writing small programs, using main(), validating input, and choosing between multiple solution approaches. I’d like a bit more clarification on scope and mutability (how passing lists/dicts affects state), when to return vs. print, handling edge cases and tests, comprehensions/slicing patterns, and practical error-handling. For upcoming topics, I’m keen to explore file I/O and CSVs (maybe a light intro to pandas), basic plotting with matplotlib, type hints/dataclasses, gentle algorithmic thinking, and small end-to-end mini-projects to tie everything together.\n",
        "'''"
      ],
      "metadata": {
        "id": "akAVJn9YBTQT",
        "colab": {
          "base_uri": "https://localhost:8080/",
          "height": 122
        },
        "outputId": "5c3fac13-b720-4c0f-bbfb-09babc2c1bc7"
      },
      "execution_count": 54,
      "outputs": [
        {
          "output_type": "execute_result",
          "data": {
            "text/plain": [
              "'\\nThe first three lectures were clear and well-paced, and the hands-on exercises (e.g., strings, lists/dicts/sets, loops, functions, exceptions) were very helpful for building confidence. I now feel comfortable writing small programs, using main(), validating input, and choosing between multiple solution approaches. I’d like a bit more clarification on scope and mutability (how passing lists/dicts affects state), when to return vs. print, handling edge cases and tests, comprehensions/slicing patterns, and practical error-handling. For upcoming topics, I’m keen to explore file I/O and CSVs (maybe a light intro to pandas), basic plotting with matplotlib, type hints/dataclasses, gentle algorithmic thinking, and small end-to-end mini-projects to tie everything together.\\n'"
            ],
            "application/vnd.google.colaboratory.intrinsic+json": {
              "type": "string"
            }
          },
          "metadata": {},
          "execution_count": 54
        }
      ]
    }
  ],
  "metadata": {
    "colab": {
      "provenance": [],
      "include_colab_link": true
    },
    "kernelspec": {
      "display_name": "Python 3 (ipykernel)",
      "language": "python",
      "name": "python3"
    },
    "language_info": {
      "codemirror_mode": {
        "name": "ipython",
        "version": 3
      },
      "file_extension": ".py",
      "mimetype": "text/x-python",
      "name": "python",
      "nbconvert_exporter": "python",
      "pygments_lexer": "ipython3",
      "version": "3.9.12"
    }
  },
  "nbformat": 4,
  "nbformat_minor": 0
}